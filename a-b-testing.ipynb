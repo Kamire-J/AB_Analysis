{
 "cells": [
  {
   "cell_type": "markdown",
   "id": "670400b2",
   "metadata": {
    "papermill": {
     "duration": 0.004215,
     "end_time": "2023-04-27T08:41:34.695923",
     "exception": false,
     "start_time": "2023-04-27T08:41:34.691708",
     "status": "completed"
    },
    "tags": []
   },
   "source": [
    "# Introduction\n",
    "A/B Testing main goal is to test the changes in a product or feature with the aim of understanding if the changes had an impact on user behavior pattern. The data is from an ecommerce that changed their webpage to improve the number of paying customers. They are conducting an A/B test to check the impact of the new page. There are two main groups namely Control and Experiment Groups. The experiment group is presented with the new page while the control group is presented with the old web page. Data was collected during the experiment to facilitate hypothesis testing to check if the difference is significant. "
   ]
  },
  {
   "cell_type": "markdown",
   "id": "79563593",
   "metadata": {
    "papermill": {
     "duration": 0.002799,
     "end_time": "2023-04-27T08:41:34.702142",
     "exception": false,
     "start_time": "2023-04-27T08:41:34.699343",
     "status": "completed"
    },
    "tags": []
   },
   "source": [
    "## Key Steps:\n",
    "* Establishing the baseline test parameters that might include baseline conversion rate, significance level and confidence level.\n",
    "* Hypothesis creation.\n",
    "* Assumption Check\n",
    "* Hypothesis Testing\n",
    "* Conclusion"
   ]
  },
  {
   "cell_type": "markdown",
   "id": "22a00f13",
   "metadata": {
    "papermill": {
     "duration": 0.002723,
     "end_time": "2023-04-27T08:41:34.707888",
     "exception": false,
     "start_time": "2023-04-27T08:41:34.705165",
     "status": "completed"
    },
    "tags": []
   },
   "source": [
    "## Creating Hypothesis\n",
    "* **Null Hypothesis**: The conversion rate for the two pages is the same.\n",
    "* **Alternative Hypothesis**: The conversion rate for the two pages is not the same.\n",
    "\n",
    "* The confidence level will be 95% i.e. \n",
    "         threshold = (1 - 0.95) = 0.05\n",
    "* The null hypothesis is rejected if the  p-value is below the threshold and the new page design is accepted. "
   ]
  },
  {
   "cell_type": "markdown",
   "id": "45640ad6",
   "metadata": {
    "papermill": {
     "duration": 0.002721,
     "end_time": "2023-04-27T08:41:34.713519",
     "exception": false,
     "start_time": "2023-04-27T08:41:34.710798",
     "status": "completed"
    },
    "tags": []
   },
   "source": [
    "### Dataset\n",
    "* **User_id:** unique user number\n",
    "* **timestamp:** Time\n",
    "* **group:**  Treatment and Control Group\n",
    "* **landing_page:** old page or new page\n",
    "* **converted:** sign up status after viewing the page"
   ]
  },
  {
   "cell_type": "code",
   "execution_count": 1,
   "id": "a1dcc554",
   "metadata": {
    "execution": {
     "iopub.execute_input": "2023-04-27T08:41:34.721970Z",
     "iopub.status.busy": "2023-04-27T08:41:34.721234Z",
     "iopub.status.idle": "2023-04-27T08:41:36.208854Z",
     "shell.execute_reply": "2023-04-27T08:41:36.207766Z"
    },
    "papermill": {
     "duration": 1.495248,
     "end_time": "2023-04-27T08:41:36.211760",
     "exception": false,
     "start_time": "2023-04-27T08:41:34.716512",
     "status": "completed"
    },
    "tags": []
   },
   "outputs": [],
   "source": [
    "import pandas as pd\n",
    "import numpy as np\n",
    "import scipy.stats as stats \n",
    "import statsmodels.stats.api as sms \n",
    "import matplotlib.pyplot as plt \n",
    "import seaborn as sns \n",
    "\n",
    "import warnings\n",
    "warnings.filterwarnings('ignore')\n",
    "%matplotlib inline"
   ]
  },
  {
   "cell_type": "markdown",
   "id": "7000c81f",
   "metadata": {
    "papermill": {
     "duration": 0.002845,
     "end_time": "2023-04-27T08:41:36.218144",
     "exception": false,
     "start_time": "2023-04-27T08:41:36.215299",
     "status": "completed"
    },
    "tags": []
   },
   "source": [
    "## Exploratory Data Analysis"
   ]
  },
  {
   "cell_type": "code",
   "execution_count": 2,
   "id": "92dc07ce",
   "metadata": {
    "execution": {
     "iopub.execute_input": "2023-04-27T08:41:36.226334Z",
     "iopub.status.busy": "2023-04-27T08:41:36.225954Z",
     "iopub.status.idle": "2023-04-27T08:41:36.600770Z",
     "shell.execute_reply": "2023-04-27T08:41:36.599561Z"
    },
    "papermill": {
     "duration": 0.382922,
     "end_time": "2023-04-27T08:41:36.604103",
     "exception": false,
     "start_time": "2023-04-27T08:41:36.221181",
     "status": "completed"
    },
    "tags": []
   },
   "outputs": [
    {
     "data": {
      "text/html": [
       "<div>\n",
       "<style scoped>\n",
       "    .dataframe tbody tr th:only-of-type {\n",
       "        vertical-align: middle;\n",
       "    }\n",
       "\n",
       "    .dataframe tbody tr th {\n",
       "        vertical-align: top;\n",
       "    }\n",
       "\n",
       "    .dataframe thead th {\n",
       "        text-align: right;\n",
       "    }\n",
       "</style>\n",
       "<table border=\"1\" class=\"dataframe\">\n",
       "  <thead>\n",
       "    <tr style=\"text-align: right;\">\n",
       "      <th></th>\n",
       "      <th>user_id</th>\n",
       "      <th>timestamp</th>\n",
       "      <th>group</th>\n",
       "      <th>landing_page</th>\n",
       "      <th>converted</th>\n",
       "    </tr>\n",
       "  </thead>\n",
       "  <tbody>\n",
       "    <tr>\n",
       "      <th>0</th>\n",
       "      <td>851104</td>\n",
       "      <td>11:48.6</td>\n",
       "      <td>control</td>\n",
       "      <td>old_page</td>\n",
       "      <td>0</td>\n",
       "    </tr>\n",
       "    <tr>\n",
       "      <th>1</th>\n",
       "      <td>804228</td>\n",
       "      <td>01:45.2</td>\n",
       "      <td>control</td>\n",
       "      <td>old_page</td>\n",
       "      <td>0</td>\n",
       "    </tr>\n",
       "    <tr>\n",
       "      <th>2</th>\n",
       "      <td>661590</td>\n",
       "      <td>55:06.2</td>\n",
       "      <td>treatment</td>\n",
       "      <td>new_page</td>\n",
       "      <td>0</td>\n",
       "    </tr>\n",
       "    <tr>\n",
       "      <th>3</th>\n",
       "      <td>853541</td>\n",
       "      <td>28:03.1</td>\n",
       "      <td>treatment</td>\n",
       "      <td>new_page</td>\n",
       "      <td>0</td>\n",
       "    </tr>\n",
       "    <tr>\n",
       "      <th>4</th>\n",
       "      <td>864975</td>\n",
       "      <td>52:26.2</td>\n",
       "      <td>control</td>\n",
       "      <td>old_page</td>\n",
       "      <td>1</td>\n",
       "    </tr>\n",
       "  </tbody>\n",
       "</table>\n",
       "</div>"
      ],
      "text/plain": [
       "   user_id timestamp      group landing_page  converted\n",
       "0   851104   11:48.6    control     old_page          0\n",
       "1   804228   01:45.2    control     old_page          0\n",
       "2   661590   55:06.2  treatment     new_page          0\n",
       "3   853541   28:03.1  treatment     new_page          0\n",
       "4   864975   52:26.2    control     old_page          1"
      ]
     },
     "execution_count": 2,
     "metadata": {},
     "output_type": "execute_result"
    }
   ],
   "source": [
    "df = pd.read_csv('/kaggle/input/ecommerce-ab-testing-2022-dataset1/ecommerce_ab_testing_2022_dataset1/ab_data.csv')\n",
    "df.head()"
   ]
  },
  {
   "cell_type": "code",
   "execution_count": 3,
   "id": "1303d4d2",
   "metadata": {
    "execution": {
     "iopub.execute_input": "2023-04-27T08:41:36.612635Z",
     "iopub.status.busy": "2023-04-27T08:41:36.612270Z",
     "iopub.status.idle": "2023-04-27T08:41:36.619230Z",
     "shell.execute_reply": "2023-04-27T08:41:36.618214Z"
    },
    "papermill": {
     "duration": 0.014338,
     "end_time": "2023-04-27T08:41:36.621923",
     "exception": false,
     "start_time": "2023-04-27T08:41:36.607585",
     "status": "completed"
    },
    "tags": []
   },
   "outputs": [
    {
     "data": {
      "text/plain": [
       "(294480, 5)"
      ]
     },
     "execution_count": 3,
     "metadata": {},
     "output_type": "execute_result"
    }
   ],
   "source": [
    "df.shape"
   ]
  },
  {
   "cell_type": "markdown",
   "id": "318cd14b",
   "metadata": {
    "papermill": {
     "duration": 0.003415,
     "end_time": "2023-04-27T08:41:36.628794",
     "exception": false,
     "start_time": "2023-04-27T08:41:36.625379",
     "status": "completed"
    },
    "tags": []
   },
   "source": [
    "### Setting Base Parameters\n",
    "* **Effect Size:** A measure used to evaluate the strength of a statisticcal claim. It is applied in the statistical hypothesis to determine the power of a statistical test. The standard deviation of the effect size shows the level of uncertainty in the measurement. It has a direct relationship with the difference that is noted between the control and experiment groups. \n",
    "* In this analysis, the effect size is set at 2.5% \n",
    "* The power of the test is typically set at 0.8.\n",
    "* The analysis will use a baseline conversion rate of 13% which makes the expected conversion to be 15.5% because of the effect size is 2.5%."
   ]
  },
  {
   "cell_type": "markdown",
   "id": "8bc93fc1",
   "metadata": {
    "papermill": {
     "duration": 0.003194,
     "end_time": "2023-04-27T08:41:36.635394",
     "exception": false,
     "start_time": "2023-04-27T08:41:36.632200",
     "status": "completed"
    },
    "tags": []
   },
   "source": [
    "In the next section, the required sample size is calculated."
   ]
  },
  {
   "cell_type": "code",
   "execution_count": 4,
   "id": "e01e381d",
   "metadata": {
    "execution": {
     "iopub.execute_input": "2023-04-27T08:41:36.644642Z",
     "iopub.status.busy": "2023-04-27T08:41:36.644028Z",
     "iopub.status.idle": "2023-04-27T08:41:36.657694Z",
     "shell.execute_reply": "2023-04-27T08:41:36.656361Z"
    },
    "papermill": {
     "duration": 0.021087,
     "end_time": "2023-04-27T08:41:36.660159",
     "exception": false,
     "start_time": "2023-04-27T08:41:36.639072",
     "status": "completed"
    },
    "tags": []
   },
   "outputs": [
    {
     "name": "stdout",
     "output_type": "stream",
     "text": [
      "4720.0\n"
     ]
    }
   ],
   "source": [
    "# Determining effect size based on expected rates\n",
    "effect_size = sms.proportion_effectsize(0.13,0.15)\n",
    "\n",
    "# Required sample size\n",
    "sample_size = sms.NormalIndPower().solve_power(effect_size, alpha=0.05, power=0.8, ratio=1)\n",
    "\n",
    "sample_size = np.ceil(sample_size)\n",
    "print(sample_size)"
   ]
  },
  {
   "cell_type": "code",
   "execution_count": null,
   "id": "b71541a3",
   "metadata": {
    "papermill": {
     "duration": 0.003275,
     "end_time": "2023-04-27T08:41:36.667125",
     "exception": false,
     "start_time": "2023-04-27T08:41:36.663850",
     "status": "completed"
    },
    "tags": []
   },
   "outputs": [],
   "source": []
  }
 ],
 "metadata": {
  "kernelspec": {
   "display_name": "Python 3",
   "language": "python",
   "name": "python3"
  },
  "language_info": {
   "codemirror_mode": {
    "name": "ipython",
    "version": 3
   },
   "file_extension": ".py",
   "mimetype": "text/x-python",
   "name": "python",
   "nbconvert_exporter": "python",
   "pygments_lexer": "ipython3",
   "version": "3.7.12"
  },
  "papermill": {
   "default_parameters": {},
   "duration": 12.633352,
   "end_time": "2023-04-27T08:41:37.392617",
   "environment_variables": {},
   "exception": null,
   "input_path": "__notebook__.ipynb",
   "output_path": "__notebook__.ipynb",
   "parameters": {},
   "start_time": "2023-04-27T08:41:24.759265",
   "version": "2.4.0"
  }
 },
 "nbformat": 4,
 "nbformat_minor": 5
}
