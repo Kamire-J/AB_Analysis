{
 "cells": [
  {
   "cell_type": "markdown",
   "id": "a7768bf6",
   "metadata": {
    "papermill": {
     "duration": 0.007805,
     "end_time": "2023-04-27T09:57:50.878152",
     "exception": false,
     "start_time": "2023-04-27T09:57:50.870347",
     "status": "completed"
    },
    "tags": []
   },
   "source": [
    "# Introduction\n",
    "A/B Testing main goal is to test the changes in a product or feature with the aim of understanding if the changes had an impact on user behavior pattern. The data is from an ecommerce that changed their webpage to improve the number of paying customers. They are conducting an A/B test to check the impact of the new page. There are two main groups namely Control and Experiment Groups. The experiment group is presented with the new page while the control group is presented with the old web page. Data was collected during the experiment to facilitate hypothesis testing to check if the difference is significant. "
   ]
  },
  {
   "cell_type": "markdown",
   "id": "00a2d790",
   "metadata": {
    "papermill": {
     "duration": 0.00599,
     "end_time": "2023-04-27T09:57:50.891053",
     "exception": false,
     "start_time": "2023-04-27T09:57:50.885063",
     "status": "completed"
    },
    "tags": []
   },
   "source": [
    "## Importing Libraries"
   ]
  },
  {
   "cell_type": "code",
   "execution_count": 1,
   "id": "a3017275",
   "metadata": {
    "execution": {
     "iopub.execute_input": "2023-04-27T09:57:50.906080Z",
     "iopub.status.busy": "2023-04-27T09:57:50.905268Z",
     "iopub.status.idle": "2023-04-27T09:57:52.515430Z",
     "shell.execute_reply": "2023-04-27T09:57:52.514064Z"
    },
    "papermill": {
     "duration": 1.621303,
     "end_time": "2023-04-27T09:57:52.518534",
     "exception": false,
     "start_time": "2023-04-27T09:57:50.897231",
     "status": "completed"
    },
    "tags": []
   },
   "outputs": [],
   "source": [
    "import pandas as pd\n",
    "import numpy as np\n",
    "import scipy.stats as stats \n",
    "import statsmodels.stats.api as sms \n",
    "import matplotlib.pyplot as plt \n",
    "import seaborn as sns \n",
    "\n",
    "import warnings\n",
    "warnings.filterwarnings('ignore')\n",
    "%matplotlib inline"
   ]
  },
  {
   "cell_type": "markdown",
   "id": "073846d1",
   "metadata": {
    "papermill": {
     "duration": 0.005878,
     "end_time": "2023-04-27T09:57:52.530839",
     "exception": false,
     "start_time": "2023-04-27T09:57:52.524961",
     "status": "completed"
    },
    "tags": []
   },
   "source": [
    "## Key Steps:\n",
    "* Establishing the baseline test parameters that might include baseline conversion rate, significance level and confidence level.\n",
    "* Hypothesis creation.\n",
    "* Assumption Check\n",
    "* Hypothesis Testing\n",
    "* Conclusion"
   ]
  },
  {
   "cell_type": "markdown",
   "id": "4b0b2b94",
   "metadata": {
    "papermill": {
     "duration": 0.006669,
     "end_time": "2023-04-27T09:57:52.543664",
     "exception": false,
     "start_time": "2023-04-27T09:57:52.536995",
     "status": "completed"
    },
    "tags": []
   },
   "source": [
    "## Creating Hypothesis\n",
    "* **Null Hypothesis**: The conversion rate for the two pages is the same.\n",
    "* **Alternative Hypothesis**: The conversion rate for the two pages is not the same.\n",
    "\n",
    "* The confidence level will be 95% i.e. \n",
    "         threshold = (1 - 0.95) = 0.05\n",
    "* The null hypothesis is rejected if the  p-value is below the threshold and the new page design is accepted. "
   ]
  },
  {
   "cell_type": "markdown",
   "id": "65b5c4d0",
   "metadata": {
    "papermill": {
     "duration": 0.006001,
     "end_time": "2023-04-27T09:57:52.556806",
     "exception": false,
     "start_time": "2023-04-27T09:57:52.550805",
     "status": "completed"
    },
    "tags": []
   },
   "source": [
    "### Dataset\n",
    "* **User_id:** unique user number\n",
    "* **timestamp:** Time\n",
    "* **group:**  Treatment and Control Group\n",
    "* **landing_page:** old page or new page\n",
    "* **converted:** sign up status after viewing the page"
   ]
  },
  {
   "cell_type": "markdown",
   "id": "83fdb36f",
   "metadata": {
    "papermill": {
     "duration": 0.005952,
     "end_time": "2023-04-27T09:57:52.569025",
     "exception": false,
     "start_time": "2023-04-27T09:57:52.563073",
     "status": "completed"
    },
    "tags": []
   },
   "source": [
    "### Setting Base Parameters\n",
    "* **Effect Size:** A measure used to evaluate the strength of a statisticcal claim. It is applied in the statistical hypothesis to determine the power of a statistical test. The standard deviation of the effect size shows the level of uncertainty in the measurement. It has a direct relationship with the difference that is noted between the control and experiment groups. \n",
    "* In this analysis, the effect size is set at 2.5% \n",
    "* The power of the test is typically set at 0.8.\n",
    "* The analysis will use a baseline conversion rate of 13% which makes the expected conversion to be 15.5% because of the effect size is 2.5%."
   ]
  },
  {
   "cell_type": "markdown",
   "id": "1d1ca073",
   "metadata": {
    "papermill": {
     "duration": 0.00589,
     "end_time": "2023-04-27T09:57:52.581130",
     "exception": false,
     "start_time": "2023-04-27T09:57:52.575240",
     "status": "completed"
    },
    "tags": []
   },
   "source": [
    "In the next section, the required sample size is calculated."
   ]
  },
  {
   "cell_type": "code",
   "execution_count": 2,
   "id": "d348f24c",
   "metadata": {
    "execution": {
     "iopub.execute_input": "2023-04-27T09:57:52.595466Z",
     "iopub.status.busy": "2023-04-27T09:57:52.595036Z",
     "iopub.status.idle": "2023-04-27T09:57:52.613796Z",
     "shell.execute_reply": "2023-04-27T09:57:52.612756Z"
    },
    "papermill": {
     "duration": 0.029016,
     "end_time": "2023-04-27T09:57:52.616306",
     "exception": false,
     "start_time": "2023-04-27T09:57:52.587290",
     "status": "completed"
    },
    "tags": []
   },
   "outputs": [
    {
     "name": "stdout",
     "output_type": "stream",
     "text": [
      "The minimum required sample size from each group: 4720 observations.\n"
     ]
    }
   ],
   "source": [
    "# Determining effect size based on expected rates\n",
    "effect_size = sms.proportion_effectsize(0.13,0.15)\n",
    "\n",
    "# Required sample size\n",
    "sample_size = sms.NormalIndPower().solve_power(effect_size, alpha=0.05, power=0.8, ratio=1)\n",
    "\n",
    "sample_size = int(np.ceil(sample_size))\n",
    "print(f\"The minimum required sample size from each group: {sample_size} observations.\")"
   ]
  },
  {
   "cell_type": "markdown",
   "id": "67e0bdb8",
   "metadata": {
    "papermill": {
     "duration": 0.00606,
     "end_time": "2023-04-27T09:57:52.628933",
     "exception": false,
     "start_time": "2023-04-27T09:57:52.622873",
     "status": "completed"
    },
    "tags": []
   },
   "source": [
    "* This means that we need at least 4,720 observations of each group are needed from the experiment to achieve the required minimum sample size.  \n",
    "* The base parameter settings for the experiment imply that with the power of 0.8, if there is a difference between the conversion rates (2.5%) there is an 80% chance to detect it as statistically significant."
   ]
  },
  {
   "cell_type": "markdown",
   "id": "51c24ade",
   "metadata": {
    "papermill": {
     "duration": 0.005975,
     "end_time": "2023-04-27T09:57:52.641302",
     "exception": false,
     "start_time": "2023-04-27T09:57:52.635327",
     "status": "completed"
    },
    "tags": []
   },
   "source": [
    "## Exploratory Data Analysis"
   ]
  },
  {
   "cell_type": "code",
   "execution_count": 3,
   "id": "ec8a316e",
   "metadata": {
    "execution": {
     "iopub.execute_input": "2023-04-27T09:57:52.657484Z",
     "iopub.status.busy": "2023-04-27T09:57:52.656973Z",
     "iopub.status.idle": "2023-04-27T09:57:53.124521Z",
     "shell.execute_reply": "2023-04-27T09:57:53.123117Z"
    },
    "papermill": {
     "duration": 0.478379,
     "end_time": "2023-04-27T09:57:53.127200",
     "exception": false,
     "start_time": "2023-04-27T09:57:52.648821",
     "status": "completed"
    },
    "tags": []
   },
   "outputs": [
    {
     "data": {
      "text/html": [
       "<div>\n",
       "<style scoped>\n",
       "    .dataframe tbody tr th:only-of-type {\n",
       "        vertical-align: middle;\n",
       "    }\n",
       "\n",
       "    .dataframe tbody tr th {\n",
       "        vertical-align: top;\n",
       "    }\n",
       "\n",
       "    .dataframe thead th {\n",
       "        text-align: right;\n",
       "    }\n",
       "</style>\n",
       "<table border=\"1\" class=\"dataframe\">\n",
       "  <thead>\n",
       "    <tr style=\"text-align: right;\">\n",
       "      <th></th>\n",
       "      <th>user_id</th>\n",
       "      <th>timestamp</th>\n",
       "      <th>group</th>\n",
       "      <th>landing_page</th>\n",
       "      <th>converted</th>\n",
       "    </tr>\n",
       "  </thead>\n",
       "  <tbody>\n",
       "    <tr>\n",
       "      <th>0</th>\n",
       "      <td>851104</td>\n",
       "      <td>11:48.6</td>\n",
       "      <td>control</td>\n",
       "      <td>old_page</td>\n",
       "      <td>0</td>\n",
       "    </tr>\n",
       "    <tr>\n",
       "      <th>1</th>\n",
       "      <td>804228</td>\n",
       "      <td>01:45.2</td>\n",
       "      <td>control</td>\n",
       "      <td>old_page</td>\n",
       "      <td>0</td>\n",
       "    </tr>\n",
       "    <tr>\n",
       "      <th>2</th>\n",
       "      <td>661590</td>\n",
       "      <td>55:06.2</td>\n",
       "      <td>treatment</td>\n",
       "      <td>new_page</td>\n",
       "      <td>0</td>\n",
       "    </tr>\n",
       "    <tr>\n",
       "      <th>3</th>\n",
       "      <td>853541</td>\n",
       "      <td>28:03.1</td>\n",
       "      <td>treatment</td>\n",
       "      <td>new_page</td>\n",
       "      <td>0</td>\n",
       "    </tr>\n",
       "    <tr>\n",
       "      <th>4</th>\n",
       "      <td>864975</td>\n",
       "      <td>52:26.2</td>\n",
       "      <td>control</td>\n",
       "      <td>old_page</td>\n",
       "      <td>1</td>\n",
       "    </tr>\n",
       "    <tr>\n",
       "      <th>5</th>\n",
       "      <td>936923</td>\n",
       "      <td>20:49.1</td>\n",
       "      <td>control</td>\n",
       "      <td>old_page</td>\n",
       "      <td>0</td>\n",
       "    </tr>\n",
       "    <tr>\n",
       "      <th>6</th>\n",
       "      <td>679687</td>\n",
       "      <td>26:46.9</td>\n",
       "      <td>treatment</td>\n",
       "      <td>new_page</td>\n",
       "      <td>1</td>\n",
       "    </tr>\n",
       "    <tr>\n",
       "      <th>7</th>\n",
       "      <td>719014</td>\n",
       "      <td>48:29.5</td>\n",
       "      <td>control</td>\n",
       "      <td>old_page</td>\n",
       "      <td>0</td>\n",
       "    </tr>\n",
       "    <tr>\n",
       "      <th>8</th>\n",
       "      <td>817355</td>\n",
       "      <td>58:09.0</td>\n",
       "      <td>treatment</td>\n",
       "      <td>new_page</td>\n",
       "      <td>1</td>\n",
       "    </tr>\n",
       "    <tr>\n",
       "      <th>9</th>\n",
       "      <td>839785</td>\n",
       "      <td>11:06.6</td>\n",
       "      <td>treatment</td>\n",
       "      <td>new_page</td>\n",
       "      <td>1</td>\n",
       "    </tr>\n",
       "  </tbody>\n",
       "</table>\n",
       "</div>"
      ],
      "text/plain": [
       "   user_id timestamp      group landing_page  converted\n",
       "0   851104   11:48.6    control     old_page          0\n",
       "1   804228   01:45.2    control     old_page          0\n",
       "2   661590   55:06.2  treatment     new_page          0\n",
       "3   853541   28:03.1  treatment     new_page          0\n",
       "4   864975   52:26.2    control     old_page          1\n",
       "5   936923   20:49.1    control     old_page          0\n",
       "6   679687   26:46.9  treatment     new_page          1\n",
       "7   719014   48:29.5    control     old_page          0\n",
       "8   817355   58:09.0  treatment     new_page          1\n",
       "9   839785   11:06.6  treatment     new_page          1"
      ]
     },
     "execution_count": 3,
     "metadata": {},
     "output_type": "execute_result"
    }
   ],
   "source": [
    "df = pd.read_csv('/kaggle/input/ecommerce-ab-testing-2022-dataset1/ecommerce_ab_testing_2022_dataset1/ab_data.csv')\n",
    "df.head(10)"
   ]
  },
  {
   "cell_type": "code",
   "execution_count": 4,
   "id": "5f76a098",
   "metadata": {
    "execution": {
     "iopub.execute_input": "2023-04-27T09:57:53.142303Z",
     "iopub.status.busy": "2023-04-27T09:57:53.141914Z",
     "iopub.status.idle": "2023-04-27T09:57:53.220615Z",
     "shell.execute_reply": "2023-04-27T09:57:53.219316Z"
    },
    "papermill": {
     "duration": 0.089452,
     "end_time": "2023-04-27T09:57:53.223326",
     "exception": false,
     "start_time": "2023-04-27T09:57:53.133874",
     "status": "completed"
    },
    "tags": []
   },
   "outputs": [
    {
     "name": "stdout",
     "output_type": "stream",
     "text": [
      "<class 'pandas.core.frame.DataFrame'>\n",
      "RangeIndex: 294480 entries, 0 to 294479\n",
      "Data columns (total 5 columns):\n",
      " #   Column        Non-Null Count   Dtype \n",
      "---  ------        --------------   ----- \n",
      " 0   user_id       294480 non-null  int64 \n",
      " 1   timestamp     294480 non-null  object\n",
      " 2   group         294480 non-null  object\n",
      " 3   landing_page  294480 non-null  object\n",
      " 4   converted     294480 non-null  int64 \n",
      "dtypes: int64(2), object(3)\n",
      "memory usage: 11.2+ MB\n"
     ]
    }
   ],
   "source": [
    "df.info()"
   ]
  },
  {
   "cell_type": "markdown",
   "id": "0d637a40",
   "metadata": {
    "papermill": {
     "duration": 0.006377,
     "end_time": "2023-04-27T09:57:53.236491",
     "exception": false,
     "start_time": "2023-04-27T09:57:53.230114",
     "status": "completed"
    },
    "tags": []
   },
   "source": [
    "Looking at the cross tabulated frequency of the control and experiment groups."
   ]
  },
  {
   "cell_type": "code",
   "execution_count": 5,
   "id": "fe9358e2",
   "metadata": {
    "execution": {
     "iopub.execute_input": "2023-04-27T09:57:53.251420Z",
     "iopub.status.busy": "2023-04-27T09:57:53.250986Z",
     "iopub.status.idle": "2023-04-27T09:57:53.360760Z",
     "shell.execute_reply": "2023-04-27T09:57:53.359090Z"
    },
    "papermill": {
     "duration": 0.121079,
     "end_time": "2023-04-27T09:57:53.364068",
     "exception": false,
     "start_time": "2023-04-27T09:57:53.242989",
     "status": "completed"
    },
    "tags": []
   },
   "outputs": [
    {
     "data": {
      "text/html": [
       "<div>\n",
       "<style scoped>\n",
       "    .dataframe tbody tr th:only-of-type {\n",
       "        vertical-align: middle;\n",
       "    }\n",
       "\n",
       "    .dataframe tbody tr th {\n",
       "        vertical-align: top;\n",
       "    }\n",
       "\n",
       "    .dataframe thead th {\n",
       "        text-align: right;\n",
       "    }\n",
       "</style>\n",
       "<table border=\"1\" class=\"dataframe\">\n",
       "  <thead>\n",
       "    <tr style=\"text-align: right;\">\n",
       "      <th>landing_page</th>\n",
       "      <th>new_page</th>\n",
       "      <th>old_page</th>\n",
       "    </tr>\n",
       "    <tr>\n",
       "      <th>group</th>\n",
       "      <th></th>\n",
       "      <th></th>\n",
       "    </tr>\n",
       "  </thead>\n",
       "  <tbody>\n",
       "    <tr>\n",
       "      <th>control</th>\n",
       "      <td>1928</td>\n",
       "      <td>145274</td>\n",
       "    </tr>\n",
       "    <tr>\n",
       "      <th>treatment</th>\n",
       "      <td>145313</td>\n",
       "      <td>1965</td>\n",
       "    </tr>\n",
       "  </tbody>\n",
       "</table>\n",
       "</div>"
      ],
      "text/plain": [
       "landing_page  new_page  old_page\n",
       "group                           \n",
       "control           1928    145274\n",
       "treatment       145313      1965"
      ]
     },
     "execution_count": 5,
     "metadata": {},
     "output_type": "execute_result"
    }
   ],
   "source": [
    "pd.crosstab(df['group'], df['landing_page'])"
   ]
  },
  {
   "cell_type": "markdown",
   "id": "542eb2ef",
   "metadata": {
    "papermill": {
     "duration": 0.006528,
     "end_time": "2023-04-27T09:57:53.377938",
     "exception": false,
     "start_time": "2023-04-27T09:57:53.371410",
     "status": "completed"
    },
    "tags": []
   },
   "source": [
    "From the output, some users of the control group are incorrectly exposed to the new page and some users in the treatment group are incorrectly exposed to the old page. \n",
    "\n",
    "The factor to consider is whether there are uses who have been counted twice during the experiment. "
   ]
  },
  {
   "cell_type": "code",
   "execution_count": 6,
   "id": "57346aa8",
   "metadata": {
    "execution": {
     "iopub.execute_input": "2023-04-27T09:57:53.394896Z",
     "iopub.status.busy": "2023-04-27T09:57:53.394464Z",
     "iopub.status.idle": "2023-04-27T09:57:53.432347Z",
     "shell.execute_reply": "2023-04-27T09:57:53.430734Z"
    },
    "papermill": {
     "duration": 0.050032,
     "end_time": "2023-04-27T09:57:53.435611",
     "exception": false,
     "start_time": "2023-04-27T09:57:53.385579",
     "status": "completed"
    },
    "tags": []
   },
   "outputs": [
    {
     "name": "stdout",
     "output_type": "stream",
     "text": [
      "There are 3895 users that appear more than once in the dataset.\n"
     ]
    }
   ],
   "source": [
    "# Checking if some users appear multiple times\n",
    "user_sessions = df['user_id'].value_counts()\n",
    "\n",
    "multiple_times_user = user_sessions[user_sessions > 1].count()\n",
    "\n",
    "print(f\"There are {multiple_times_user} users that appear more than once in the dataset.\")"
   ]
  },
  {
   "cell_type": "markdown",
   "id": "d30d9fa6",
   "metadata": {
    "papermill": {
     "duration": 0.007208,
     "end_time": "2023-04-27T09:57:53.450380",
     "exception": false,
     "start_time": "2023-04-27T09:57:53.443172",
     "status": "completed"
    },
    "tags": []
   },
   "source": [
    "Sampling one user more than once will affect the outcome of the experiment. Therefore, the next step is the elimination of the users who have been sampled more than once. "
   ]
  },
  {
   "cell_type": "code",
   "execution_count": 7,
   "id": "a657f218",
   "metadata": {
    "execution": {
     "iopub.execute_input": "2023-04-27T09:57:53.468239Z",
     "iopub.status.busy": "2023-04-27T09:57:53.466623Z",
     "iopub.status.idle": "2023-04-27T09:57:53.505791Z",
     "shell.execute_reply": "2023-04-27T09:57:53.504005Z"
    },
    "papermill": {
     "duration": 0.05158,
     "end_time": "2023-04-27T09:57:53.509334",
     "exception": false,
     "start_time": "2023-04-27T09:57:53.457754",
     "status": "completed"
    },
    "tags": []
   },
   "outputs": [
    {
     "name": "stdout",
     "output_type": "stream",
     "text": [
      "The updated data has 286690 observations, after the removal of users who appear multiple times.\n"
     ]
    }
   ],
   "source": [
    "# Get indices for the users to remove\n",
    "eliminate_users = user_sessions[user_sessions > 1].index\n",
    "\n",
    "df = df[~df['user_id'].isin(eliminate_users)]\n",
    "\n",
    "print(f\"The updated data has {df.shape[0]} observations, after the removal of users who \\\n",
    "appear multiple times.\")"
   ]
  },
  {
   "cell_type": "markdown",
   "id": "9631a314",
   "metadata": {
    "papermill": {
     "duration": 0.007049,
     "end_time": "2023-04-27T09:57:53.523949",
     "exception": false,
     "start_time": "2023-04-27T09:57:53.516900",
     "status": "completed"
    },
    "tags": []
   },
   "source": [
    "The next step is to sample both the control and experiment groups based on the required sample size that was calculated using the set base parameters."
   ]
  },
  {
   "cell_type": "code",
   "execution_count": 8,
   "id": "0eea26a4",
   "metadata": {
    "execution": {
     "iopub.execute_input": "2023-04-27T09:57:53.541483Z",
     "iopub.status.busy": "2023-04-27T09:57:53.540150Z",
     "iopub.status.idle": "2023-04-27T09:57:53.643171Z",
     "shell.execute_reply": "2023-04-27T09:57:53.641204Z"
    },
    "papermill": {
     "duration": 0.115517,
     "end_time": "2023-04-27T09:57:53.646818",
     "exception": false,
     "start_time": "2023-04-27T09:57:53.531301",
     "status": "completed"
    },
    "tags": []
   },
   "outputs": [
    {
     "name": "stdout",
     "output_type": "stream",
     "text": [
      "control      4720\n",
      "treatment    4720\n",
      "Name: group, dtype: int64\n",
      "<class 'pandas.core.frame.DataFrame'>\n",
      "RangeIndex: 9440 entries, 0 to 9439\n",
      "Data columns (total 5 columns):\n",
      " #   Column        Non-Null Count  Dtype \n",
      "---  ------        --------------  ----- \n",
      " 0   user_id       9440 non-null   int64 \n",
      " 1   timestamp     9440 non-null   object\n",
      " 2   group         9440 non-null   object\n",
      " 3   landing_page  9440 non-null   object\n",
      " 4   converted     9440 non-null   int64 \n",
      "dtypes: int64(2), object(3)\n",
      "memory usage: 368.9+ KB\n"
     ]
    }
   ],
   "source": [
    "# Set the treatment group sample\n",
    "treatment_sample = df[df['group']=='treatment'].sample(n=sample_size, random_state=5)\n",
    "\n",
    "# Set the Control group sample\n",
    "control_sample = df[df['group'] == 'control'].sample(n=sample_size, random_state=5)\n",
    "\n",
    "\n",
    "# Combine the two samples into one dataframe\n",
    "ab_test = pd.concat([control_sample, treatment_sample], axis=0)\n",
    "\n",
    "# Reset index\n",
    "ab_test.reset_index(drop=True, inplace=True)\n",
    "\n",
    "# print value counts for each group\n",
    "print(ab_test['group'].value_counts())\n",
    "\n",
    "# Check the info for the abtest dataframe\n",
    "ab_test.info()"
   ]
  },
  {
   "cell_type": "markdown",
   "id": "54b44d8c",
   "metadata": {
    "papermill": {
     "duration": 0.007579,
     "end_time": "2023-04-27T09:57:53.662488",
     "exception": false,
     "start_time": "2023-04-27T09:57:53.654909",
     "status": "completed"
    },
    "tags": []
   },
   "source": [
    "In the next section, we look at the conversion rates for both groups and computer standard deviation and standard errors for both groups."
   ]
  },
  {
   "cell_type": "code",
   "execution_count": 9,
   "id": "1655a2dc",
   "metadata": {
    "execution": {
     "iopub.execute_input": "2023-04-27T09:57:53.679931Z",
     "iopub.status.busy": "2023-04-27T09:57:53.679476Z",
     "iopub.status.idle": "2023-04-27T09:57:53.776047Z",
     "shell.execute_reply": "2023-04-27T09:57:53.774775Z"
    },
    "papermill": {
     "duration": 0.108659,
     "end_time": "2023-04-27T09:57:53.779079",
     "exception": false,
     "start_time": "2023-04-27T09:57:53.670420",
     "status": "completed"
    },
    "tags": []
   },
   "outputs": [
    {
     "data": {
      "text/html": [
       "<style type=\"text/css\">\n",
       "</style>\n",
       "<table id=\"T_b258c_\">\n",
       "  <thead>\n",
       "    <tr>\n",
       "      <th class=\"blank level0\" >&nbsp;</th>\n",
       "      <th class=\"col_heading level0 col0\" >conversion_rate</th>\n",
       "      <th class=\"col_heading level0 col1\" >std_deviation</th>\n",
       "      <th class=\"col_heading level0 col2\" >std_error</th>\n",
       "    </tr>\n",
       "    <tr>\n",
       "      <th class=\"index_name level0\" >group</th>\n",
       "      <th class=\"blank col0\" >&nbsp;</th>\n",
       "      <th class=\"blank col1\" >&nbsp;</th>\n",
       "      <th class=\"blank col2\" >&nbsp;</th>\n",
       "    </tr>\n",
       "  </thead>\n",
       "  <tbody>\n",
       "    <tr>\n",
       "      <th id=\"T_b258c_level0_row0\" class=\"row_heading level0 row0\" >control</th>\n",
       "      <td id=\"T_b258c_row0_col0\" class=\"data row0 col0\" >0.1222</td>\n",
       "      <td id=\"T_b258c_row0_col1\" class=\"data row0 col1\" >0.3276</td>\n",
       "      <td id=\"T_b258c_row0_col2\" class=\"data row0 col2\" >0.0048</td>\n",
       "    </tr>\n",
       "    <tr>\n",
       "      <th id=\"T_b258c_level0_row1\" class=\"row_heading level0 row1\" >treatment</th>\n",
       "      <td id=\"T_b258c_row1_col0\" class=\"data row1 col0\" >0.1231</td>\n",
       "      <td id=\"T_b258c_row1_col1\" class=\"data row1 col1\" >0.3285</td>\n",
       "      <td id=\"T_b258c_row1_col2\" class=\"data row1 col2\" >0.0048</td>\n",
       "    </tr>\n",
       "  </tbody>\n",
       "</table>\n"
      ],
      "text/plain": [
       "<pandas.io.formats.style.Styler at 0x74c81b5443d0>"
      ]
     },
     "execution_count": 9,
     "metadata": {},
     "output_type": "execute_result"
    }
   ],
   "source": [
    "# Group by control groups based on conversion\n",
    "rate_conversion = ab_test.groupby('group')['converted']\n",
    "\n",
    "# Get standard deviation of the proportion\n",
    "std_p = lambda x: np.std(x, ddof = 0)\n",
    "\n",
    "# Standard Error\n",
    "std_e = lambda x: stats.sem(x, ddof=0)\n",
    "\n",
    "# Aggregate values \n",
    "rate_conversion = rate_conversion.agg([np.mean, std_p, std_e])\n",
    "\n",
    "# Set column names \n",
    "rate_conversion.columns = ['conversion_rate', 'std_deviation', 'std_error']\n",
    "\n",
    "# show output\n",
    "rate_conversion.style.format('{:.4f}')"
   ]
  },
  {
   "cell_type": "markdown",
   "id": "a8e4a25e",
   "metadata": {
    "papermill": {
     "duration": 0.007467,
     "end_time": "2023-04-27T09:57:53.794602",
     "exception": false,
     "start_time": "2023-04-27T09:57:53.787135",
     "status": "completed"
    },
    "tags": []
   },
   "source": [
    "* The results show that the conversion rate for the control group is 12.22% and the one for the treatment group is 12.31%. \n",
    "* Plotting the results can provide a clear picture."
   ]
  },
  {
   "cell_type": "code",
   "execution_count": 10,
   "id": "e9f03878",
   "metadata": {
    "execution": {
     "iopub.execute_input": "2023-04-27T09:57:53.812800Z",
     "iopub.status.busy": "2023-04-27T09:57:53.811769Z",
     "iopub.status.idle": "2023-04-27T09:57:54.175274Z",
     "shell.execute_reply": "2023-04-27T09:57:54.173874Z"
    },
    "papermill": {
     "duration": 0.375405,
     "end_time": "2023-04-27T09:57:54.177932",
     "exception": false,
     "start_time": "2023-04-27T09:57:53.802527",
     "status": "completed"
    },
    "tags": []
   },
   "outputs": [
    {
     "data": {
      "image/png": "[encoded data removed]",
      "text/plain": [
       "<Figure size 600x600 with 1 Axes>"
      ]
     },
     "metadata": {},
     "output_type": "display_data"
    }
   ],
   "source": [
    "# Plot results\n",
    "plt.figure(figsize=(6,6))\n",
    "\n",
    "sns.barplot(x=ab_test['group'], y=ab_test['converted'])\n",
    "\n",
    "plt.ylim(0, 0.15)\n",
    "plt.title(\"Conversion Rate: Treatment and Control Groups\")\n",
    "plt.xlabel(\"Group\")\n",
    "plt.ylabel(\"Converted [Proportion]\")\n",
    "plt.show()"
   ]
  },
  {
   "cell_type": "markdown",
   "id": "d15572b3",
   "metadata": {
    "papermill": {
     "duration": 0.007854,
     "end_time": "2023-04-27T09:57:54.193804",
     "exception": false,
     "start_time": "2023-04-27T09:57:54.185950",
     "status": "completed"
    },
    "tags": []
   },
   "source": [
    "* The conversion rate for the treatment group is slighly than that of the control group. Checking if the small difference is statistically significant can inform the decision to reject or accept the null hypothesis. "
   ]
  },
  {
   "cell_type": "code",
   "execution_count": 11,
   "id": "6a33bb53",
   "metadata": {
    "execution": {
     "iopub.execute_input": "2023-04-27T09:57:54.211805Z",
     "iopub.status.busy": "2023-04-27T09:57:54.211275Z",
     "iopub.status.idle": "2023-04-27T09:57:54.228679Z",
     "shell.execute_reply": "2023-04-27T09:57:54.227076Z"
    },
    "papermill": {
     "duration": 0.029833,
     "end_time": "2023-04-27T09:57:54.231433",
     "exception": false,
     "start_time": "2023-04-27T09:57:54.201600",
     "status": "completed"
    },
    "tags": []
   },
   "outputs": [
    {
     "name": "stdout",
     "output_type": "stream",
     "text": [
      "z statistic: -0.13\n",
      "p value: 0.900\n",
      "95% Confidence Level for Control Group: [0.113, 0.132]\n",
      "95% Confidence Level for Treatment Group: [0.114, 0.132]\n"
     ]
    }
   ],
   "source": [
    "from statsmodels.stats.proportion import proportions_ztest, proportion_confint \n",
    "\n",
    "# Users converted in the control group\n",
    "converted_control = ab_test[ab_test['group']=='control']['converted']\n",
    "\n",
    "# Users converted in treatment group\n",
    "converted_treatment = ab_test[ab_test['group']=='treatment']['converted']\n",
    "\n",
    "# number of users in control and treatment\n",
    "n_control = converted_control.count()\n",
    "\n",
    "n_treatment = converted_treatment.count()\n",
    "\n",
    "# Successfully converted\n",
    "positive_outcome = [converted_control.sum(), converted_treatment.sum()]\n",
    "\n",
    "# observations\n",
    "nobs = [n_control, n_treatment]\n",
    "\n",
    "# calculate zstat and proportions using statsmodel\n",
    "z_stat, pval = proportions_ztest(positive_outcome, nobs=nobs)\n",
    "\n",
    "(lower_con, lower_treat), (upper_con, upper_treat) = proportion_confint(positive_outcome, nobs=nobs, alpha=0.05)\n",
    "\n",
    "\n",
    "print(f\"z statistic: {z_stat:.2f}\")\n",
    "print(f\"p value: {pval:.3f}\")\n",
    "print(f\"95% Confidence Level for Control Group: [{lower_con:.3f}, {upper_con:.3f}]\")\n",
    "print(f\"95% Confidence Level for Treatment Group: [{lower_treat:.3f}, {upper_treat:.3f}]\")"
   ]
  },
  {
   "cell_type": "markdown",
   "id": "cb6612ad",
   "metadata": {
    "papermill": {
     "duration": 0.007798,
     "end_time": "2023-04-27T09:57:54.247590",
     "exception": false,
     "start_time": "2023-04-27T09:57:54.239792",
     "status": "completed"
    },
    "tags": []
   },
   "source": [
    "## Conclusion"
   ]
  },
  {
   "cell_type": "markdown",
   "id": "7b551bc8",
   "metadata": {
    "papermill": {
     "duration": 0.007782,
     "end_time": "2023-04-27T09:57:54.263710",
     "exception": false,
     "start_time": "2023-04-27T09:57:54.255928",
     "status": "completed"
    },
    "tags": []
   },
   "source": [
    "* The p-value is 0.9, which is higher than 0.05. Therefore, the probability of observing extreme results is small. The null hypothesis cannot be rejected.\n",
    "* In conclusion, the new page does not perform significantly better than the new page for the ecommerce site. The new design does not exceed the expectations needed to have a significantly better conversion rate compared to the old page."
   ]
  }
 ],
 "metadata": {
  "kernelspec": {
   "display_name": "Python 3",
   "language": "python",
   "name": "python3"
  },
  "language_info": {
   "codemirror_mode": {
    "name": "ipython",
    "version": 3
   },
   "file_extension": ".py",
   "mimetype": "text/x-python",
   "name": "python",
   "nbconvert_exporter": "python",
   "pygments_lexer": "ipython3",
   "version": "3.7.12"
  },
  "papermill": {
   "default_parameters": {},
   "duration": 14.549148,
   "end_time": "2023-04-27T09:57:55.197873",
   "environment_variables": {},
   "exception": null,
   "input_path": "__notebook__.ipynb",
   "output_path": "__notebook__.ipynb",
   "parameters": {},
   "start_time": "2023-04-27T09:57:40.648725",
   "version": "2.4.0"
  }
 },
 "nbformat": 4,
 "nbformat_minor": 5
}
